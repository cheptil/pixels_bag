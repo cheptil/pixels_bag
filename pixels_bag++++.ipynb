{
 "cells": [
  {
   "cell_type": "code",
   "execution_count": null,
   "metadata": {},
   "outputs": [],
   "source": [
    "#https://www.quora.com/How-can-I-read-a-data-set-of-images-in-a-PNG-format-in-Python-code\n",
    "\n",
    "#https://stackoverflow.com/questions/7762948/how-to-convert-an-rgb-image-to-numpy-array"
   ]
  },
  {
   "cell_type": "code",
   "execution_count": 3,
   "metadata": {},
   "outputs": [],
   "source": [
    "from PIL import Image\n",
    "import numpy as np"
   ]
  },
  {
   "cell_type": "code",
   "execution_count": 4,
   "metadata": {},
   "outputs": [],
   "source": [
    "def loader(name):\n",
    "    img = Image.open(name)\n",
    "    img.load()\n",
    "    data = np.asarray( img, dtype=\"int32\" )\n",
    "    s = 0\n",
    "    for i in data:\n",
    "        for j in i:\n",
    "            s += (j[0]<<16) + (j[1]<<8) + j[2]\n",
    "    return s\n",
    "    "
   ]
  },
  {
   "cell_type": "code",
   "execution_count": 6,
   "metadata": {},
   "outputs": [
    {
     "data": {
      "text/plain": [
       "1696603819170"
      ]
     },
     "execution_count": 6,
     "metadata": {},
     "output_type": "execute_result"
    }
   ],
   "source": []
  },
  {
   "cell_type": "code",
   "execution_count": 5,
   "metadata": {},
   "outputs": [
    {
     "name": "stdout",
     "output_type": "stream",
     "text": [
      "./dataset/1.png 1696603819170\n",
      "./dataset/1_u_2.png 6786704184840\n",
      "./dataset/1_d_2.png 424175032789\n",
      "./dataset/2.png 1696603819170\n",
      "./dataset/2_u_2.png 6787266037451\n",
      "./dataset/2_d_2.png 424179893524\n",
      "./dataset/3.png 1696603819170\n",
      "./dataset/3_u_2.png 6786520176128\n",
      "./dataset/3_d_2.png 424179701284\n",
      "./dataset/4.png 1696603819170\n",
      "./dataset/4_u_2.png 6788323823845\n",
      "./dataset/4_d_2.png 424174200974\n"
     ]
    }
   ],
   "source": [
    "path_to_dir = \"./dataset/\"\n",
    "dataset = [\"1\", \"2\", \"3\", \"4\"]\n",
    "scale = [\"\", \"_u_2\", \"_d_2\"]\n",
    "for i in dataset:\n",
    "    for j in scale:\n",
    "        name = path_to_dir + i + j + \".png\"\n",
    "        res = loader(name)\n",
    "        print(name, res)"
   ]
  },
  {
   "cell_type": "code",
   "execution_count": 6,
   "metadata": {},
   "outputs": [
    {
     "name": "stdout",
     "output_type": "stream",
     "text": [
      "4.000170286166243 3.999772942821819 15.999772877287551\n",
      "4.00050144928438 3.999727108880531 16.00091409581859\n",
      "4.0000618290768974 3.9997289215734466 15.999162985840847\n",
      "4.001124922119964 3.999780786465121 16.003622587742186\n"
     ]
    }
   ],
   "source": [
    "a = [[1696603819170,\n",
    "6786704184840,\n",
    "424175032789],\n",
    "[1696603819170,\n",
    "6787266037451,\n",
    "424179893524],\n",
    "[1696603819170,\n",
    "6786520176128,\n",
    "424179701284],\n",
    "[1696603819170,\n",
    "6788323823845,\n",
    "424174200974]]\n",
    "\n",
    "for i in a:\n",
    "    print(i[1]/i[0], i[0]/i[2], i[1]/i[2])"
   ]
  },
  {
   "cell_type": "code",
   "execution_count": null,
   "metadata": {},
   "outputs": [],
   "source": []
  }
 ],
 "metadata": {
  "kernelspec": {
   "display_name": "Python 3",
   "language": "python",
   "name": "python3"
  },
  "language_info": {
   "codemirror_mode": {
    "name": "ipython",
    "version": 3
   },
   "file_extension": ".py",
   "mimetype": "text/x-python",
   "name": "python",
   "nbconvert_exporter": "python",
   "pygments_lexer": "ipython3",
   "version": "3.6.4"
  }
 },
 "nbformat": 4,
 "nbformat_minor": 2
}
