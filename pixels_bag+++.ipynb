{
 "cells": [
  {
   "cell_type": "code",
   "execution_count": null,
   "metadata": {},
   "outputs": [],
   "source": [
    "#https://www.quora.com/How-can-I-read-a-data-set-of-images-in-a-PNG-format-in-Python-code\n",
    "\n",
    "#https://stackoverflow.com/questions/7762948/how-to-convert-an-rgb-image-to-numpy-array"
   ]
  },
  {
   "cell_type": "code",
   "execution_count": 7,
   "metadata": {},
   "outputs": [],
   "source": [
    "from PIL import Image\n",
    "import numpy as np"
   ]
  },
  {
   "cell_type": "code",
   "execution_count": 5,
   "metadata": {},
   "outputs": [],
   "source": [
    "def loader(name):\n",
    "    img = Image.open(name)\n",
    "    img.load()\n",
    "    data = np.asarray( img, dtype=\"int32\" )\n",
    "    s = 0\n",
    "    for i in data:\n",
    "        for j in i:\n",
    "            s += (j[0]<<16) + (j[1]<<8) + j[2]\n",
    "    return s\n",
    "    "
   ]
  },
  {
   "cell_type": "code",
   "execution_count": 6,
   "metadata": {},
   "outputs": [
    {
     "data": {
      "text/plain": [
       "1696603819170"
      ]
     },
     "execution_count": 6,
     "metadata": {},
     "output_type": "execute_result"
    }
   ],
   "source": []
  },
  {
   "cell_type": "code",
   "execution_count": 10,
   "metadata": {},
   "outputs": [
    {
     "name": "stdout",
     "output_type": "stream",
     "text": [
      "1696603819170\n",
      "1696603819170\n",
      "1696603819170\n",
      "1696603819170\n"
     ]
    }
   ],
   "source": [
    "path_to_dir = \"./dataset/\"\n",
    "dataset = [\"1.png\", \"2.png\", \"3.png\", \"4.png\"]\n",
    "for i in dataset:\n",
    "    print(loader(path_to_dir + i))"
   ]
  },
  {
   "cell_type": "code",
   "execution_count": null,
   "metadata": {},
   "outputs": [],
   "source": []
  }
 ],
 "metadata": {
  "kernelspec": {
   "display_name": "Python 3",
   "language": "python",
   "name": "python3"
  },
  "language_info": {
   "codemirror_mode": {
    "name": "ipython",
    "version": 3
   },
   "file_extension": ".py",
   "mimetype": "text/x-python",
   "name": "python",
   "nbconvert_exporter": "python",
   "pygments_lexer": "ipython3",
   "version": "3.6.4"
  }
 },
 "nbformat": 4,
 "nbformat_minor": 2
}
